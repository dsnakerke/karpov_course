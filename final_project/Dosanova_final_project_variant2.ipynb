{
 "cells": [
  {
   "cell_type": "code",
   "execution_count": 1,
   "metadata": {
    "scrolled": true
   },
   "outputs": [],
   "source": [
    "import pandas as pd\n",
    "import numpy as np\n",
    "from scipy import stats as ss\n",
    "import pingouin as pg\n",
    "import seaborn as sns\n",
    "from matplotlib import pyplot as plt\n",
    "from tqdm.auto import tqdm\n",
    "import random"
   ]
  },
  {
   "cell_type": "markdown",
   "metadata": {},
   "source": [
    "Условие задачи:\n",
    "\n",
    "Одной из основных задач аналитика в нашей команде является корректное проведение экспериментов. Для этого мы применяем метод A/B–тестирования. В ходе тестирования одной гипотезы целевой группе была предложена новая механика оплаты услуг на сайте, у контрольной группы оставалась базовая механика. В качестве задания Вам необходимо проанализировать итоги эксперимента и сделать вывод, стоит ли запускать новую механику оплаты на всех пользователей."
   ]
  },
  {
   "cell_type": "code",
   "execution_count": 2,
   "metadata": {},
   "outputs": [
    {
     "name": "stderr",
     "output_type": "stream",
     "text": [
      "/opt/tljh/user/lib/python3.7/site-packages/outdated/utils.py:18: OutdatedCacheFailedWarning: Failed to use cache while checking for outdated package.\n",
      "Set the environment variable OUTDATED_RAISE_EXCEPTION=1 for a full traceback.\n",
      "Set the environment variable OUTDATED_IGNORE=1 to disable these warnings.\n",
      "  **kwargs\n"
     ]
    }
   ],
   "source": [
    "#подгружаю файлы \n",
    "groups = pd.read_csv('Проект_2_groups.csv', sep=';')\n",
    "active_studs = pd.read_csv('Проект_2_active_studs.csv', sep=';')\n",
    "checks = pd.read_csv('Проект_2_checks.csv', sep=';')"
   ]
  },
  {
   "cell_type": "code",
   "execution_count": 3,
   "metadata": {},
   "outputs": [],
   "source": [
    "#добавляю флаг активности пользователя is_active (1 - был активным в период эксперимента)\n",
    "active_studs = active_studs.rename(columns = {'student_id':'id'})\n",
    "active_studs['is_active'] = 1"
   ]
  },
  {
   "cell_type": "code",
   "execution_count": 4,
   "metadata": {},
   "outputs": [
    {
     "data": {
      "text/html": [
       "<div>\n",
       "<style scoped>\n",
       "    .dataframe tbody tr th:only-of-type {\n",
       "        vertical-align: middle;\n",
       "    }\n",
       "\n",
       "    .dataframe tbody tr th {\n",
       "        vertical-align: top;\n",
       "    }\n",
       "\n",
       "    .dataframe thead th {\n",
       "        text-align: right;\n",
       "    }\n",
       "</style>\n",
       "<table border=\"1\" class=\"dataframe\">\n",
       "  <thead>\n",
       "    <tr style=\"text-align: right;\">\n",
       "      <th></th>\n",
       "      <th>id</th>\n",
       "      <th>is_active</th>\n",
       "    </tr>\n",
       "  </thead>\n",
       "  <tbody>\n",
       "    <tr>\n",
       "      <th>0</th>\n",
       "      <td>581585</td>\n",
       "      <td>1</td>\n",
       "    </tr>\n",
       "    <tr>\n",
       "      <th>1</th>\n",
       "      <td>5723133</td>\n",
       "      <td>1</td>\n",
       "    </tr>\n",
       "    <tr>\n",
       "      <th>2</th>\n",
       "      <td>3276743</td>\n",
       "      <td>1</td>\n",
       "    </tr>\n",
       "    <tr>\n",
       "      <th>3</th>\n",
       "      <td>4238589</td>\n",
       "      <td>1</td>\n",
       "    </tr>\n",
       "    <tr>\n",
       "      <th>4</th>\n",
       "      <td>4475369</td>\n",
       "      <td>1</td>\n",
       "    </tr>\n",
       "  </tbody>\n",
       "</table>\n",
       "</div>"
      ],
      "text/plain": [
       "        id  is_active\n",
       "0   581585          1\n",
       "1  5723133          1\n",
       "2  3276743          1\n",
       "3  4238589          1\n",
       "4  4475369          1"
      ]
     },
     "execution_count": 4,
     "metadata": {},
     "output_type": "execute_result"
    }
   ],
   "source": [
    "active_studs.head()"
   ]
  },
  {
   "cell_type": "code",
   "execution_count": 5,
   "metadata": {},
   "outputs": [],
   "source": [
    "#объединяю две таблицы в df внешним джоином, чтобы не потерять пользователей из обеих таблиц\n",
    "#is_active = 0 - пользователи, которые учавствовали в эксперименте, но не были активными \n",
    "#пользователи, которые были активные, но не попали в эксперимент имееют группу 0\n",
    "df = active_studs.merge(groups, how = 'outer', on = 'id')\n",
    "df['is_active'] = df.is_active.fillna(0)\n",
    "df['grp'] = df.grp.fillna('0')"
   ]
  },
  {
   "cell_type": "code",
   "execution_count": 6,
   "metadata": {},
   "outputs": [
    {
     "data": {
      "text/html": [
       "<div>\n",
       "<style scoped>\n",
       "    .dataframe tbody tr th:only-of-type {\n",
       "        vertical-align: middle;\n",
       "    }\n",
       "\n",
       "    .dataframe tbody tr th {\n",
       "        vertical-align: top;\n",
       "    }\n",
       "\n",
       "    .dataframe thead th {\n",
       "        text-align: right;\n",
       "    }\n",
       "</style>\n",
       "<table border=\"1\" class=\"dataframe\">\n",
       "  <thead>\n",
       "    <tr style=\"text-align: right;\">\n",
       "      <th></th>\n",
       "      <th>grp</th>\n",
       "      <th>is_active</th>\n",
       "      <th>users_cnt</th>\n",
       "    </tr>\n",
       "  </thead>\n",
       "  <tbody>\n",
       "    <tr>\n",
       "      <th>0</th>\n",
       "      <td>0</td>\n",
       "      <td>1.0</td>\n",
       "      <td>13</td>\n",
       "    </tr>\n",
       "    <tr>\n",
       "      <th>1</th>\n",
       "      <td>A</td>\n",
       "      <td>0.0</td>\n",
       "      <td>13136</td>\n",
       "    </tr>\n",
       "    <tr>\n",
       "      <th>2</th>\n",
       "      <td>A</td>\n",
       "      <td>1.0</td>\n",
       "      <td>1535</td>\n",
       "    </tr>\n",
       "    <tr>\n",
       "      <th>3</th>\n",
       "      <td>B</td>\n",
       "      <td>0.0</td>\n",
       "      <td>53020</td>\n",
       "    </tr>\n",
       "    <tr>\n",
       "      <th>4</th>\n",
       "      <td>B</td>\n",
       "      <td>1.0</td>\n",
       "      <td>6793</td>\n",
       "    </tr>\n",
       "  </tbody>\n",
       "</table>\n",
       "</div>"
      ],
      "text/plain": [
       "  grp  is_active  users_cnt\n",
       "0   0        1.0         13\n",
       "1   A        0.0      13136\n",
       "2   A        1.0       1535\n",
       "3   B        0.0      53020\n",
       "4   B        1.0       6793"
      ]
     },
     "execution_count": 6,
     "metadata": {},
     "output_type": "execute_result"
    }
   ],
   "source": [
    "df.groupby(['grp', 'is_active'], as_index = False) \\\n",
    "    .agg({'id':'nunique'}) \\\n",
    "    .rename(columns = {'id':'users_cnt'})"
   ]
  },
  {
   "cell_type": "code",
   "execution_count": 7,
   "metadata": {},
   "outputs": [],
   "source": [
    "#переименовываю столбец и добавляю флаг наличия покупки has_check (1 - пользователь сделал целевое действие, сделал покупку)\n",
    "checks = checks.rename(columns = {'student_id':'id'})\n",
    "checks['has_check'] = 1"
   ]
  },
  {
   "cell_type": "code",
   "execution_count": 8,
   "metadata": {},
   "outputs": [
    {
     "data": {
      "text/plain": [
       "1.0"
      ]
     },
     "execution_count": 8,
     "metadata": {},
     "output_type": "execute_result"
    }
   ],
   "source": [
    "#кол-во повторных покупок = кол-во всего чеков / кол-во уникальных пользователей\n",
    "checks.rev.count() / checks.id.nunique()"
   ]
  },
  {
   "cell_type": "markdown",
   "metadata": {},
   "source": [
    "Делаем вывод, что каждый пользователь в файле Проект_2_checks.csv сделал по одной покупке"
   ]
  },
  {
   "cell_type": "code",
   "execution_count": 9,
   "metadata": {},
   "outputs": [],
   "source": [
    "#объединяю таблицу df с чеками, left join - чтобы не потерять пользователей без покупок\n",
    "#has_check = 0  - пользователи, которые не сделали покупку, у них в поле rev сумма чека будет 0\n",
    "df_x_checks = df.merge(checks, how = 'left', on = 'id')\n",
    "df_x_checks['has_check'] = df_x_checks.has_check.fillna(0)\n",
    "df_x_checks['rev'] = df_x_checks.rev.fillna(0)"
   ]
  },
  {
   "cell_type": "code",
   "execution_count": 10,
   "metadata": {},
   "outputs": [
    {
     "data": {
      "text/html": [
       "<div>\n",
       "<style scoped>\n",
       "    .dataframe tbody tr th:only-of-type {\n",
       "        vertical-align: middle;\n",
       "    }\n",
       "\n",
       "    .dataframe tbody tr th {\n",
       "        vertical-align: top;\n",
       "    }\n",
       "\n",
       "    .dataframe thead th {\n",
       "        text-align: right;\n",
       "    }\n",
       "</style>\n",
       "<table border=\"1\" class=\"dataframe\">\n",
       "  <thead>\n",
       "    <tr style=\"text-align: right;\">\n",
       "      <th></th>\n",
       "      <th>grp</th>\n",
       "      <th>is_active</th>\n",
       "      <th>has_check</th>\n",
       "      <th>total_sum</th>\n",
       "      <th>users_cnt</th>\n",
       "    </tr>\n",
       "  </thead>\n",
       "  <tbody>\n",
       "    <tr>\n",
       "      <th>0</th>\n",
       "      <td>0</td>\n",
       "      <td>1.0</td>\n",
       "      <td>0.0</td>\n",
       "      <td>0.0000</td>\n",
       "      <td>12</td>\n",
       "    </tr>\n",
       "    <tr>\n",
       "      <th>1</th>\n",
       "      <td>0</td>\n",
       "      <td>1.0</td>\n",
       "      <td>1.0</td>\n",
       "      <td>1900.0000</td>\n",
       "      <td>1</td>\n",
       "    </tr>\n",
       "    <tr>\n",
       "      <th>2</th>\n",
       "      <td>A</td>\n",
       "      <td>0.0</td>\n",
       "      <td>0.0</td>\n",
       "      <td>0.0000</td>\n",
       "      <td>13107</td>\n",
       "    </tr>\n",
       "    <tr>\n",
       "      <th>3</th>\n",
       "      <td>A</td>\n",
       "      <td>0.0</td>\n",
       "      <td>1.0</td>\n",
       "      <td>19276.0000</td>\n",
       "      <td>29</td>\n",
       "    </tr>\n",
       "    <tr>\n",
       "      <th>4</th>\n",
       "      <td>A</td>\n",
       "      <td>1.0</td>\n",
       "      <td>0.0</td>\n",
       "      <td>0.0000</td>\n",
       "      <td>1457</td>\n",
       "    </tr>\n",
       "    <tr>\n",
       "      <th>5</th>\n",
       "      <td>A</td>\n",
       "      <td>1.0</td>\n",
       "      <td>1.0</td>\n",
       "      <td>72820.0000</td>\n",
       "      <td>78</td>\n",
       "    </tr>\n",
       "    <tr>\n",
       "      <th>6</th>\n",
       "      <td>B</td>\n",
       "      <td>0.0</td>\n",
       "      <td>0.0</td>\n",
       "      <td>0.0000</td>\n",
       "      <td>52900</td>\n",
       "    </tr>\n",
       "    <tr>\n",
       "      <th>7</th>\n",
       "      <td>B</td>\n",
       "      <td>0.0</td>\n",
       "      <td>1.0</td>\n",
       "      <td>86256.0001</td>\n",
       "      <td>120</td>\n",
       "    </tr>\n",
       "    <tr>\n",
       "      <th>8</th>\n",
       "      <td>B</td>\n",
       "      <td>1.0</td>\n",
       "      <td>0.0</td>\n",
       "      <td>0.0000</td>\n",
       "      <td>6480</td>\n",
       "    </tr>\n",
       "    <tr>\n",
       "      <th>9</th>\n",
       "      <td>B</td>\n",
       "      <td>1.0</td>\n",
       "      <td>1.0</td>\n",
       "      <td>393074.0035</td>\n",
       "      <td>313</td>\n",
       "    </tr>\n",
       "  </tbody>\n",
       "</table>\n",
       "</div>"
      ],
      "text/plain": [
       "  grp  is_active  has_check    total_sum  users_cnt\n",
       "0   0        1.0        0.0       0.0000         12\n",
       "1   0        1.0        1.0    1900.0000          1\n",
       "2   A        0.0        0.0       0.0000      13107\n",
       "3   A        0.0        1.0   19276.0000         29\n",
       "4   A        1.0        0.0       0.0000       1457\n",
       "5   A        1.0        1.0   72820.0000         78\n",
       "6   B        0.0        0.0       0.0000      52900\n",
       "7   B        0.0        1.0   86256.0001        120\n",
       "8   B        1.0        0.0       0.0000       6480\n",
       "9   B        1.0        1.0  393074.0035        313"
      ]
     },
     "execution_count": 10,
     "metadata": {},
     "output_type": "execute_result"
    }
   ],
   "source": [
    "df_x_checks.groupby(['grp','is_active',  'has_check'], as_index = False) \\\n",
    "    .agg({'rev':'sum', 'id':'nunique'}) \\\n",
    "    .rename(columns = {'rev':'total_sum', 'id':'users_cnt'})"
   ]
  },
  {
   "cell_type": "markdown",
   "metadata": {},
   "source": [
    "Группировка по флагу активности is_active и наличию чека у пользователся has_check помогает сделать вывод, что в датасэте есть пользователи, которые не были активными во время проведения эксперимента (в группе А 13136, среди них 29 имеют покупки, в группе В 53020, из них 120 пользователей с покупками). \n",
    "В данном случае нас интересуют только активные пользователи в дни проведения эксперимента и их покупки.\n",
    "\n",
    "Мы исследуем гипотезу H0: между значениями сумм чеков в группах А и В различий нет и они примерно равны.\n",
    "Альтернативная гипотеза Н1: в группах А и В сумма чеков не равны и имеют стат значимые различия.\n",
    "\n",
    "Однако заметим, что размерность групп А и В не совпадает и различается более чем в 4 раза (1535 против 6793), что дает повода усомнениться в применимости t-test в данном случае."
   ]
  },
  {
   "cell_type": "code",
   "execution_count": 11,
   "metadata": {},
   "outputs": [],
   "source": [
    "#отбираю активных пользователей из групп А и В, это наш основной датафрэм\n",
    "df_x_checks = df_x_checks.query(\"is_active == 1 & grp != '0'\")"
   ]
  },
  {
   "cell_type": "code",
   "execution_count": 12,
   "metadata": {},
   "outputs": [
    {
     "data": {
      "text/html": [
       "<div>\n",
       "<style scoped>\n",
       "    .dataframe tbody tr th:only-of-type {\n",
       "        vertical-align: middle;\n",
       "    }\n",
       "\n",
       "    .dataframe tbody tr th {\n",
       "        vertical-align: top;\n",
       "    }\n",
       "\n",
       "    .dataframe thead th {\n",
       "        text-align: right;\n",
       "    }\n",
       "</style>\n",
       "<table border=\"1\" class=\"dataframe\">\n",
       "  <thead>\n",
       "    <tr style=\"text-align: right;\">\n",
       "      <th></th>\n",
       "      <th>grp</th>\n",
       "      <th>is_active</th>\n",
       "      <th>has_check</th>\n",
       "      <th>total_sum</th>\n",
       "      <th>users_cnt</th>\n",
       "    </tr>\n",
       "  </thead>\n",
       "  <tbody>\n",
       "    <tr>\n",
       "      <th>0</th>\n",
       "      <td>A</td>\n",
       "      <td>1.0</td>\n",
       "      <td>0.0</td>\n",
       "      <td>0.0000</td>\n",
       "      <td>1457</td>\n",
       "    </tr>\n",
       "    <tr>\n",
       "      <th>1</th>\n",
       "      <td>A</td>\n",
       "      <td>1.0</td>\n",
       "      <td>1.0</td>\n",
       "      <td>72820.0000</td>\n",
       "      <td>78</td>\n",
       "    </tr>\n",
       "    <tr>\n",
       "      <th>2</th>\n",
       "      <td>B</td>\n",
       "      <td>1.0</td>\n",
       "      <td>0.0</td>\n",
       "      <td>0.0000</td>\n",
       "      <td>6480</td>\n",
       "    </tr>\n",
       "    <tr>\n",
       "      <th>3</th>\n",
       "      <td>B</td>\n",
       "      <td>1.0</td>\n",
       "      <td>1.0</td>\n",
       "      <td>393074.0035</td>\n",
       "      <td>313</td>\n",
       "    </tr>\n",
       "  </tbody>\n",
       "</table>\n",
       "</div>"
      ],
      "text/plain": [
       "  grp  is_active  has_check    total_sum  users_cnt\n",
       "0   A        1.0        0.0       0.0000       1457\n",
       "1   A        1.0        1.0   72820.0000         78\n",
       "2   B        1.0        0.0       0.0000       6480\n",
       "3   B        1.0        1.0  393074.0035        313"
      ]
     },
     "execution_count": 12,
     "metadata": {},
     "output_type": "execute_result"
    }
   ],
   "source": [
    "df_x_checks.groupby(['grp','is_active','has_check'], as_index = False) \\\n",
    "    .agg({'rev':'sum', 'id':'nunique'}) \\\n",
    "    .rename(columns = {'rev':'total_sum', 'id':'users_cnt'})"
   ]
  },
  {
   "cell_type": "markdown",
   "metadata": {},
   "source": [
    "Из результата запроса выше видим, что у нас много пользователей без покупки из-за чего не ясна картина распределения чеков.  "
   ]
  },
  {
   "cell_type": "code",
   "execution_count": 13,
   "metadata": {},
   "outputs": [
    {
     "data": {
      "text/plain": [
       "<matplotlib.axes._subplots.AxesSubplot at 0x7f791b59f860>"
      ]
     },
     "execution_count": 13,
     "metadata": {},
     "output_type": "execute_result"
    },
    {
     "data": {
      "image/png": "[encoded data removed]",
      "text/plain": [
       "<Figure size 432x288 with 1 Axes>"
      ]
     },
     "metadata": {
      "needs_background": "light"
     },
     "output_type": "display_data"
    }
   ],
   "source": [
    "sns.boxplot(x=\"grp\", y=\"rev\", data=df_x_checks)"
   ]
  },
  {
   "cell_type": "code",
   "execution_count": 14,
   "metadata": {},
   "outputs": [
    {
     "data": {
      "text/plain": [
       "<matplotlib.axes._subplots.AxesSubplot at 0x7f791af99b00>"
      ]
     },
     "execution_count": 14,
     "metadata": {},
     "output_type": "execute_result"
    },
    {
     "data": {
      "image/png": "[encoded data removed]",
      "text/plain": [
       "<Figure size 432x288 with 1 Axes>"
      ]
     },
     "metadata": {
      "needs_background": "light"
     },
     "output_type": "display_data"
    }
   ],
   "source": [
    "sns.histplot(df_x_checks[df_x_checks.grp == 'A'].rev, bins = 20, kde=True, color = \"red\")\n",
    "sns.histplot(df_x_checks[df_x_checks.grp == 'B'].rev, bins = 20, kde=True)"
   ]
  },
  {
   "cell_type": "code",
   "execution_count": 15,
   "metadata": {},
   "outputs": [],
   "source": [
    "#поэтому оставляю только тех пользователей, которые имеют покупку \n",
    "df_x_checks_above0 = df_x_checks[df_x_checks.rev > 0]"
   ]
  },
  {
   "cell_type": "code",
   "execution_count": 16,
   "metadata": {},
   "outputs": [
    {
     "data": {
      "text/html": [
       "<div>\n",
       "<style scoped>\n",
       "    .dataframe tbody tr th:only-of-type {\n",
       "        vertical-align: middle;\n",
       "    }\n",
       "\n",
       "    .dataframe tbody tr th {\n",
       "        vertical-align: top;\n",
       "    }\n",
       "\n",
       "    .dataframe thead th {\n",
       "        text-align: right;\n",
       "    }\n",
       "</style>\n",
       "<table border=\"1\" class=\"dataframe\">\n",
       "  <thead>\n",
       "    <tr style=\"text-align: right;\">\n",
       "      <th></th>\n",
       "      <th>id</th>\n",
       "      <th>is_active</th>\n",
       "      <th>grp</th>\n",
       "      <th>rev</th>\n",
       "      <th>has_check</th>\n",
       "    </tr>\n",
       "  </thead>\n",
       "  <tbody>\n",
       "    <tr>\n",
       "      <th>62</th>\n",
       "      <td>1184303</td>\n",
       "      <td>1.0</td>\n",
       "      <td>A</td>\n",
       "      <td>1530.0000</td>\n",
       "      <td>1.0</td>\n",
       "    </tr>\n",
       "    <tr>\n",
       "      <th>67</th>\n",
       "      <td>3354191</td>\n",
       "      <td>1.0</td>\n",
       "      <td>B</td>\n",
       "      <td>1900.0001</td>\n",
       "      <td>1.0</td>\n",
       "    </tr>\n",
       "    <tr>\n",
       "      <th>77</th>\n",
       "      <td>3278734</td>\n",
       "      <td>1.0</td>\n",
       "      <td>B</td>\n",
       "      <td>1900.0000</td>\n",
       "      <td>1.0</td>\n",
       "    </tr>\n",
       "    <tr>\n",
       "      <th>99</th>\n",
       "      <td>720651</td>\n",
       "      <td>1.0</td>\n",
       "      <td>A</td>\n",
       "      <td>1980.0000</td>\n",
       "      <td>1.0</td>\n",
       "    </tr>\n",
       "    <tr>\n",
       "      <th>193</th>\n",
       "      <td>1232221</td>\n",
       "      <td>1.0</td>\n",
       "      <td>B</td>\n",
       "      <td>1900.0000</td>\n",
       "      <td>1.0</td>\n",
       "    </tr>\n",
       "    <tr>\n",
       "      <th>...</th>\n",
       "      <td>...</td>\n",
       "      <td>...</td>\n",
       "      <td>...</td>\n",
       "      <td>...</td>\n",
       "      <td>...</td>\n",
       "    </tr>\n",
       "    <tr>\n",
       "      <th>8201</th>\n",
       "      <td>3890326</td>\n",
       "      <td>1.0</td>\n",
       "      <td>B</td>\n",
       "      <td>199.0000</td>\n",
       "      <td>1.0</td>\n",
       "    </tr>\n",
       "    <tr>\n",
       "      <th>8204</th>\n",
       "      <td>1390994</td>\n",
       "      <td>1.0</td>\n",
       "      <td>A</td>\n",
       "      <td>398.0000</td>\n",
       "      <td>1.0</td>\n",
       "    </tr>\n",
       "    <tr>\n",
       "      <th>8263</th>\n",
       "      <td>1516339</td>\n",
       "      <td>1.0</td>\n",
       "      <td>A</td>\n",
       "      <td>290.0000</td>\n",
       "      <td>1.0</td>\n",
       "    </tr>\n",
       "    <tr>\n",
       "      <th>8277</th>\n",
       "      <td>3910596</td>\n",
       "      <td>1.0</td>\n",
       "      <td>B</td>\n",
       "      <td>597.0000</td>\n",
       "      <td>1.0</td>\n",
       "    </tr>\n",
       "    <tr>\n",
       "      <th>8339</th>\n",
       "      <td>3610547</td>\n",
       "      <td>1.0</td>\n",
       "      <td>B</td>\n",
       "      <td>290.0000</td>\n",
       "      <td>1.0</td>\n",
       "    </tr>\n",
       "  </tbody>\n",
       "</table>\n",
       "<p>391 rows × 5 columns</p>\n",
       "</div>"
      ],
      "text/plain": [
       "           id  is_active grp        rev  has_check\n",
       "62    1184303        1.0   A  1530.0000        1.0\n",
       "67    3354191        1.0   B  1900.0001        1.0\n",
       "77    3278734        1.0   B  1900.0000        1.0\n",
       "99     720651        1.0   A  1980.0000        1.0\n",
       "193   1232221        1.0   B  1900.0000        1.0\n",
       "...       ...        ...  ..        ...        ...\n",
       "8201  3890326        1.0   B   199.0000        1.0\n",
       "8204  1390994        1.0   A   398.0000        1.0\n",
       "8263  1516339        1.0   A   290.0000        1.0\n",
       "8277  3910596        1.0   B   597.0000        1.0\n",
       "8339  3610547        1.0   B   290.0000        1.0\n",
       "\n",
       "[391 rows x 5 columns]"
      ]
     },
     "execution_count": 16,
     "metadata": {},
     "output_type": "execute_result"
    }
   ],
   "source": [
    "df_x_checks_above0"
   ]
  },
  {
   "cell_type": "code",
   "execution_count": 17,
   "metadata": {},
   "outputs": [
    {
     "data": {
      "text/plain": [
       "<matplotlib.axes._subplots.AxesSubplot at 0x7f791af34ac8>"
      ]
     },
     "execution_count": 17,
     "metadata": {},
     "output_type": "execute_result"
    },
    {
     "data": {
      "image/png": "[encoded data removed]",
      "text/plain": [
       "<Figure size 432x288 with 1 Axes>"
      ]
     },
     "metadata": {
      "needs_background": "light"
     },
     "output_type": "display_data"
    }
   ],
   "source": [
    "sns.boxplot(x=\"grp\", y=\"rev\", data=df_x_checks_above0)"
   ]
  },
  {
   "cell_type": "code",
   "execution_count": 18,
   "metadata": {},
   "outputs": [
    {
     "data": {
      "text/plain": [
       "<matplotlib.axes._subplots.AxesSubplot at 0x7f791ae1afd0>"
      ]
     },
     "execution_count": 18,
     "metadata": {},
     "output_type": "execute_result"
    },
    {
     "data": {
      "image/png": "[encoded data removed]",
      "text/plain": [
       "<Figure size 432x288 with 1 Axes>"
      ]
     },
     "metadata": {
      "needs_background": "light"
     },
     "output_type": "display_data"
    }
   ],
   "source": [
    "sns.histplot(df_x_checks_above0[df_x_checks_above0.grp == 'A'].rev,bins = 20,  kde=True, color = \"red\" )\n",
    "sns.histplot(df_x_checks_above0[df_x_checks_above0.grp == 'B'].rev,bins = 20,  kde=True)"
   ]
  },
  {
   "cell_type": "code",
   "execution_count": 19,
   "metadata": {},
   "outputs": [
    {
     "data": {
      "text/html": [
       "<div>\n",
       "<style scoped>\n",
       "    .dataframe tbody tr th:only-of-type {\n",
       "        vertical-align: middle;\n",
       "    }\n",
       "\n",
       "    .dataframe tbody tr th {\n",
       "        vertical-align: top;\n",
       "    }\n",
       "\n",
       "    .dataframe thead th {\n",
       "        text-align: right;\n",
       "    }\n",
       "</style>\n",
       "<table border=\"1\" class=\"dataframe\">\n",
       "  <thead>\n",
       "    <tr style=\"text-align: right;\">\n",
       "      <th></th>\n",
       "      <th>W</th>\n",
       "      <th>pval</th>\n",
       "      <th>normal</th>\n",
       "    </tr>\n",
       "  </thead>\n",
       "  <tbody>\n",
       "    <tr>\n",
       "      <th>A</th>\n",
       "      <td>30.37842</td>\n",
       "      <td>2.531687e-07</td>\n",
       "      <td>False</td>\n",
       "    </tr>\n",
       "    <tr>\n",
       "      <th>B</th>\n",
       "      <td>7.02227</td>\n",
       "      <td>2.986301e-02</td>\n",
       "      <td>False</td>\n",
       "    </tr>\n",
       "  </tbody>\n",
       "</table>\n",
       "</div>"
      ],
      "text/plain": [
       "          W          pval  normal\n",
       "A  30.37842  2.531687e-07   False\n",
       "B   7.02227  2.986301e-02   False"
      ]
     },
     "execution_count": 19,
     "metadata": {},
     "output_type": "execute_result"
    }
   ],
   "source": [
    "#Тест Шапиро-Уилка и normaltest из библиотеки scipy также показывают, что у нас распределния чеков ненормальные\n",
    "#мне больше нравится использовать библиотеку pingouin \n",
    "pg.normality(data=df_x_checks_above0, dv = \"rev\", group = 'grp', method = \"normaltest\")"
   ]
  },
  {
   "cell_type": "code",
   "execution_count": 20,
   "metadata": {},
   "outputs": [
    {
     "data": {
      "text/html": [
       "<div>\n",
       "<style scoped>\n",
       "    .dataframe tbody tr th:only-of-type {\n",
       "        vertical-align: middle;\n",
       "    }\n",
       "\n",
       "    .dataframe tbody tr th {\n",
       "        vertical-align: top;\n",
       "    }\n",
       "\n",
       "    .dataframe thead th {\n",
       "        text-align: right;\n",
       "    }\n",
       "</style>\n",
       "<table border=\"1\" class=\"dataframe\">\n",
       "  <thead>\n",
       "    <tr style=\"text-align: right;\">\n",
       "      <th></th>\n",
       "      <th>W</th>\n",
       "      <th>pval</th>\n",
       "      <th>equal_var</th>\n",
       "    </tr>\n",
       "  </thead>\n",
       "  <tbody>\n",
       "    <tr>\n",
       "      <th>levene</th>\n",
       "      <td>3.055864</td>\n",
       "      <td>0.081235</td>\n",
       "      <td>True</td>\n",
       "    </tr>\n",
       "  </tbody>\n",
       "</table>\n",
       "</div>"
      ],
      "text/plain": [
       "               W      pval  equal_var\n",
       "levene  3.055864  0.081235       True"
      ]
     },
     "execution_count": 20,
     "metadata": {},
     "output_type": "execute_result"
    }
   ],
   "source": [
    "#группы А и В имеют одиннаковые дисперсии\n",
    "pg.homoscedasticity(data=df_x_checks_above0, dv = \"rev\", group = 'grp')"
   ]
  },
  {
   "cell_type": "code",
   "execution_count": 21,
   "metadata": {},
   "outputs": [
    {
     "name": "stderr",
     "output_type": "stream",
     "text": [
      "/opt/tljh/user/lib/python3.7/site-packages/ipykernel_launcher.py:2: SettingWithCopyWarning: \n",
      "A value is trying to be set on a copy of a slice from a DataFrame.\n",
      "Try using .loc[row_indexer,col_indexer] = value instead\n",
      "\n",
      "See the caveats in the documentation: https://pandas.pydata.org/pandas-docs/stable/user_guide/indexing.html#returning-a-view-versus-a-copy\n",
      "  \n"
     ]
    }
   ],
   "source": [
    "#прологарифмируем значения суммы чеков покупателей и в отдельном датафрэйме сохраняю данные\n",
    "df_x_checks_above0['rev_log'] = np.log(df_x_checks_above0.rev)"
   ]
  },
  {
   "cell_type": "code",
   "execution_count": 22,
   "metadata": {},
   "outputs": [
    {
     "data": {
      "text/html": [
       "<div>\n",
       "<style scoped>\n",
       "    .dataframe tbody tr th:only-of-type {\n",
       "        vertical-align: middle;\n",
       "    }\n",
       "\n",
       "    .dataframe tbody tr th {\n",
       "        vertical-align: top;\n",
       "    }\n",
       "\n",
       "    .dataframe thead th {\n",
       "        text-align: right;\n",
       "    }\n",
       "</style>\n",
       "<table border=\"1\" class=\"dataframe\">\n",
       "  <thead>\n",
       "    <tr style=\"text-align: right;\">\n",
       "      <th></th>\n",
       "      <th>id</th>\n",
       "      <th>is_active</th>\n",
       "      <th>grp</th>\n",
       "      <th>rev</th>\n",
       "      <th>has_check</th>\n",
       "      <th>rev_log</th>\n",
       "    </tr>\n",
       "  </thead>\n",
       "  <tbody>\n",
       "    <tr>\n",
       "      <th>62</th>\n",
       "      <td>1184303</td>\n",
       "      <td>1.0</td>\n",
       "      <td>A</td>\n",
       "      <td>1530.0000</td>\n",
       "      <td>1.0</td>\n",
       "      <td>7.333023</td>\n",
       "    </tr>\n",
       "    <tr>\n",
       "      <th>67</th>\n",
       "      <td>3354191</td>\n",
       "      <td>1.0</td>\n",
       "      <td>B</td>\n",
       "      <td>1900.0001</td>\n",
       "      <td>1.0</td>\n",
       "      <td>7.549609</td>\n",
       "    </tr>\n",
       "    <tr>\n",
       "      <th>77</th>\n",
       "      <td>3278734</td>\n",
       "      <td>1.0</td>\n",
       "      <td>B</td>\n",
       "      <td>1900.0000</td>\n",
       "      <td>1.0</td>\n",
       "      <td>7.549609</td>\n",
       "    </tr>\n",
       "    <tr>\n",
       "      <th>99</th>\n",
       "      <td>720651</td>\n",
       "      <td>1.0</td>\n",
       "      <td>A</td>\n",
       "      <td>1980.0000</td>\n",
       "      <td>1.0</td>\n",
       "      <td>7.590852</td>\n",
       "    </tr>\n",
       "    <tr>\n",
       "      <th>193</th>\n",
       "      <td>1232221</td>\n",
       "      <td>1.0</td>\n",
       "      <td>B</td>\n",
       "      <td>1900.0000</td>\n",
       "      <td>1.0</td>\n",
       "      <td>7.549609</td>\n",
       "    </tr>\n",
       "  </tbody>\n",
       "</table>\n",
       "</div>"
      ],
      "text/plain": [
       "          id  is_active grp        rev  has_check   rev_log\n",
       "62   1184303        1.0   A  1530.0000        1.0  7.333023\n",
       "67   3354191        1.0   B  1900.0001        1.0  7.549609\n",
       "77   3278734        1.0   B  1900.0000        1.0  7.549609\n",
       "99    720651        1.0   A  1980.0000        1.0  7.590852\n",
       "193  1232221        1.0   B  1900.0000        1.0  7.549609"
      ]
     },
     "execution_count": 22,
     "metadata": {},
     "output_type": "execute_result"
    }
   ],
   "source": [
    "df_x_checks_above0.head()"
   ]
  },
  {
   "cell_type": "code",
   "execution_count": 23,
   "metadata": {},
   "outputs": [
    {
     "data": {
      "text/html": [
       "<div>\n",
       "<style scoped>\n",
       "    .dataframe tbody tr th:only-of-type {\n",
       "        vertical-align: middle;\n",
       "    }\n",
       "\n",
       "    .dataframe tbody tr th {\n",
       "        vertical-align: top;\n",
       "    }\n",
       "\n",
       "    .dataframe thead th {\n",
       "        text-align: right;\n",
       "    }\n",
       "</style>\n",
       "<table border=\"1\" class=\"dataframe\">\n",
       "  <thead>\n",
       "    <tr style=\"text-align: right;\">\n",
       "      <th></th>\n",
       "      <th>W</th>\n",
       "      <th>pval</th>\n",
       "      <th>normal</th>\n",
       "    </tr>\n",
       "  </thead>\n",
       "  <tbody>\n",
       "    <tr>\n",
       "      <th>A</th>\n",
       "      <td>7.991540</td>\n",
       "      <td>1.839328e-02</td>\n",
       "      <td>False</td>\n",
       "    </tr>\n",
       "    <tr>\n",
       "      <th>B</th>\n",
       "      <td>86.649917</td>\n",
       "      <td>1.528304e-19</td>\n",
       "      <td>False</td>\n",
       "    </tr>\n",
       "  </tbody>\n",
       "</table>\n",
       "</div>"
      ],
      "text/plain": [
       "           W          pval  normal\n",
       "A   7.991540  1.839328e-02   False\n",
       "B  86.649917  1.528304e-19   False"
      ]
     },
     "execution_count": 23,
     "metadata": {},
     "output_type": "execute_result"
    }
   ],
   "source": [
    "pg.normality(data=df_x_checks_above0, dv = \"rev_log\", group = 'grp', method = \"normaltest\")"
   ]
  },
  {
   "cell_type": "code",
   "execution_count": 24,
   "metadata": {},
   "outputs": [
    {
     "data": {
      "text/html": [
       "<div>\n",
       "<style scoped>\n",
       "    .dataframe tbody tr th:only-of-type {\n",
       "        vertical-align: middle;\n",
       "    }\n",
       "\n",
       "    .dataframe tbody tr th {\n",
       "        vertical-align: top;\n",
       "    }\n",
       "\n",
       "    .dataframe thead th {\n",
       "        text-align: right;\n",
       "    }\n",
       "</style>\n",
       "<table border=\"1\" class=\"dataframe\">\n",
       "  <thead>\n",
       "    <tr style=\"text-align: right;\">\n",
       "      <th></th>\n",
       "      <th>W</th>\n",
       "      <th>pval</th>\n",
       "      <th>equal_var</th>\n",
       "    </tr>\n",
       "  </thead>\n",
       "  <tbody>\n",
       "    <tr>\n",
       "      <th>levene</th>\n",
       "      <td>0.107942</td>\n",
       "      <td>0.742677</td>\n",
       "      <td>True</td>\n",
       "    </tr>\n",
       "  </tbody>\n",
       "</table>\n",
       "</div>"
      ],
      "text/plain": [
       "               W      pval  equal_var\n",
       "levene  0.107942  0.742677       True"
      ]
     },
     "execution_count": 24,
     "metadata": {},
     "output_type": "execute_result"
    }
   ],
   "source": [
    "pg.homoscedasticity(data=df_x_checks_above0, dv = \"rev_log\", group = 'grp')"
   ]
  },
  {
   "cell_type": "markdown",
   "metadata": {},
   "source": [
    "Исходные значения чеков и логарифированые значения в группах А и В имеют ненормальное распределение и размеры выборок сильно различаются, следовательно не выполняются условия для применения t-test. \n",
    "\n",
    "Далее пробую применить U-критерий Манна-Уитни для проверки гипотезы H0: распределение значений признака в группе А совпадает с распределением признака в группе В"
   ]
  },
  {
   "cell_type": "code",
   "execution_count": 25,
   "metadata": {},
   "outputs": [
    {
     "data": {
      "text/plain": [
       "MannwhitneyuResult(statistic=8990.0, pvalue=0.000273244700505943)"
      ]
     },
     "execution_count": 25,
     "metadata": {},
     "output_type": "execute_result"
    }
   ],
   "source": [
    "ss.mannwhitneyu(df_x_checks_above0[df_x_checks_above0.grp == 'A'].rev, df_x_checks_above0[df_x_checks_above0.grp == 'B'].rev)"
   ]
  },
  {
   "cell_type": "markdown",
   "metadata": {},
   "source": [
    "pvalue=0.0002 < 0.05 , следовательно по этому критерию, можем сказать, что распределение в группе А не совпадает с распределением признака в группе В. Но я ничего не могу сказать про средние или сумму чеков. \n",
    "\n",
    "Хочу еще рассмотреть такие метрики как средний чек и конверсию в покупку и их изменения в группах."
   ]
  },
  {
   "cell_type": "code",
   "execution_count": 26,
   "metadata": {},
   "outputs": [
    {
     "data": {
      "text/html": [
       "<div>\n",
       "<style scoped>\n",
       "    .dataframe tbody tr th:only-of-type {\n",
       "        vertical-align: middle;\n",
       "    }\n",
       "\n",
       "    .dataframe tbody tr th {\n",
       "        vertical-align: top;\n",
       "    }\n",
       "\n",
       "    .dataframe thead th {\n",
       "        text-align: right;\n",
       "    }\n",
       "</style>\n",
       "<table border=\"1\" class=\"dataframe\">\n",
       "  <thead>\n",
       "    <tr style=\"text-align: right;\">\n",
       "      <th></th>\n",
       "      <th>grp</th>\n",
       "      <th>CR</th>\n",
       "      <th>mean_check</th>\n",
       "    </tr>\n",
       "  </thead>\n",
       "  <tbody>\n",
       "    <tr>\n",
       "      <th>0</th>\n",
       "      <td>A</td>\n",
       "      <td>5.081433</td>\n",
       "      <td>47.439739</td>\n",
       "    </tr>\n",
       "    <tr>\n",
       "      <th>1</th>\n",
       "      <td>B</td>\n",
       "      <td>4.607684</td>\n",
       "      <td>57.864567</td>\n",
       "    </tr>\n",
       "  </tbody>\n",
       "</table>\n",
       "</div>"
      ],
      "text/plain": [
       "  grp        CR  mean_check\n",
       "0   A  5.081433   47.439739\n",
       "1   B  4.607684   57.864567"
      ]
     },
     "execution_count": 26,
     "metadata": {},
     "output_type": "execute_result"
    }
   ],
   "source": [
    "metrics =  df_x_checks.groupby(['grp'], as_index = False) \\\n",
    "    .agg({'has_check':'mean', 'rev':'mean'}) \\\n",
    "    .rename(columns = {'rev':'mean_check', 'has_check':'CR'})\n",
    "metrics['CR'] = metrics['CR']*100\n",
    "metrics"
   ]
  },
  {
   "cell_type": "markdown",
   "metadata": {},
   "source": [
    "Видим, что среди всех активных пользователей средний чек в группе В увеличился на 10.425. \n",
    "Проверим следующую гипотезу: изменение среднего чека в группах является ли стат значимым.\n",
    "Буду проверять методом bootstrap с возвращением."
   ]
  },
  {
   "cell_type": "code",
   "execution_count": 27,
   "metadata": {},
   "outputs": [],
   "source": [
    "boot_it = 10000\n",
    "bootstrap_conf_level = 0.95\n",
    "boot_len = max([len(df_x_checks[df_x_checks.grp == 'A']), len(df_x_checks[df_x_checks.grp == 'B'])])"
   ]
  },
  {
   "cell_type": "code",
   "execution_count": 28,
   "metadata": {},
   "outputs": [
    {
     "data": {
      "application/vnd.jupyter.widget-view+json": {
       "model_id": "80456df100e54fa19bdd8e152e59e5c0",
       "version_major": 2,
       "version_minor": 0
      },
      "text/plain": [
       "HBox(children=(FloatProgress(value=0.0, max=10000.0), HTML(value='')))"
      ]
     },
     "metadata": {},
     "output_type": "display_data"
    },
    {
     "name": "stdout",
     "output_type": "stream",
     "text": [
      "\n"
     ]
    }
   ],
   "source": [
    "boot_data = []\n",
    "for i in tqdm(range(boot_it)): \n",
    "    samples_grA = df_x_checks[df_x_checks.grp == 'A'].rev.sample(boot_len, replace = True).values\n",
    "    samples_grB = df_x_checks[df_x_checks.grp == 'B'].rev.sample(boot_len, replace = True).values\n",
    "    boot_data.append(np.mean(samples_grB-samples_grA)) \n",
    "pd_boot_data = pd.DataFrame(boot_data)"
   ]
  },
  {
   "cell_type": "code",
   "execution_count": 29,
   "metadata": {},
   "outputs": [
    {
     "data": {
      "image/png": "[encoded data removed]",
      "text/plain": [
       "<Figure size 432x288 with 1 Axes>"
      ]
     },
     "metadata": {
      "needs_background": "light"
     },
     "output_type": "display_data"
    }
   ],
   "source": [
    "left_quant = (1 - bootstrap_conf_level)/2\n",
    "right_quant = 1 - (1 - bootstrap_conf_level) / 2\n",
    "quants = pd_boot_data.quantile([left_quant, right_quant])\n",
    "        \n",
    "p_1 = ss.norm.cdf(x = 0, loc = np.mean(boot_data), scale = np.std(boot_data) )\n",
    "p_2 = ss.norm.cdf(x = 0, loc = -np.mean(boot_data), scale = np.std(boot_data))\n",
    "p_value1 = min(p_1, p_2) * 2 \n",
    "        \n",
    "    # Визуализация\n",
    "plt.hist(pd_boot_data[0], bins = 50)\n",
    "plt.style.use('ggplot')\n",
    "plt.vlines(quants,ymin=0,ymax=50,linestyle='--')\n",
    "plt.xlabel('boot_data')\n",
    "plt.ylabel('frequency')\n",
    "plt.title(\"Histogram of boot_data\")\n",
    "plt.show()"
   ]
  },
  {
   "cell_type": "code",
   "execution_count": 30,
   "metadata": {},
   "outputs": [
    {
     "data": {
      "text/plain": [
       "0.04517794303585304"
      ]
     },
     "execution_count": 30,
     "metadata": {},
     "output_type": "execute_result"
    }
   ],
   "source": [
    "p_value1"
   ]
  },
  {
   "cell_type": "markdown",
   "metadata": {},
   "source": [
    "Замечание: \n",
    "mean(sample_grB - sample_grA) = mean(sample_grB) - mean(sample_grA); \n",
    "mean(sample_grB), mean(sample_grA) - средний чек в бут-выборке соответствующей группы\n",
    "Следовательно mean(sample_grB - sample_grA) дает разницу между средними чеками бут-выборок.\n",
    "\n",
    "Применение метода бутстреп к исходной выборке данных групп А и В всех активных пользователей дает следующий результат:\n",
    "0 не входит в 95% доверительный интервал разницы среднего чека бут-выборок, соответственно мы отклоняем нулевую гипотезу о равенстве выборок и имеем стат значимые различия в группах среди активных пользователей. \n",
    "\n",
    "Средний чек в группе A равен 47.439, в группе B 57.864, т.е увеличение среднего чека является стат значимым изменением."
   ]
  },
  {
   "cell_type": "markdown",
   "metadata": {},
   "source": [
    "В теории по методу бутстреп говорится, что можно считать разные метрики (среднее, медиана и тд), я решила провести эксперимент и сделать бутстрэп с вычислением конверсии в покупку CR в бут-выборках. Может я делаю исконно неверное применение метода, с чем прошу помощи обьяснить если это так. \n",
    "\n",
    "Ранее я считала метрику CR (конверсию в покупку), получается, что у группы A  CR = 5.081, у группы B  CR = 4.607"
   ]
  },
  {
   "cell_type": "markdown",
   "metadata": {},
   "source": [
    "Выходит, что у тестовой группы B конверсию в покупку упала на 0.474, хочу данную метрику.\n",
    "Далее проверяю гипотезу: конверсия в группах стат значимо различаются или нет?\n",
    "В предыдущий раз я считала среднее значение суммы чека в бутвыборке, что является метрикой среднего чека среди активных пользователей."
   ]
  },
  {
   "cell_type": "code",
   "execution_count": 31,
   "metadata": {},
   "outputs": [],
   "source": [
    "boot_it = 10000\n",
    "bootstrap_conf_level = 0.95\n",
    "boot_len = max([len(df_x_checks[df_x_checks.grp == 'A']), len(df_x_checks[df_x_checks.grp == 'B'])])"
   ]
  },
  {
   "cell_type": "code",
   "execution_count": 32,
   "metadata": {},
   "outputs": [
    {
     "data": {
      "application/vnd.jupyter.widget-view+json": {
       "model_id": "3e67345483914bdcaaddba1a7ffc193b",
       "version_major": 2,
       "version_minor": 0
      },
      "text/plain": [
       "HBox(children=(FloatProgress(value=0.0, max=10000.0), HTML(value='')))"
      ]
     },
     "metadata": {},
     "output_type": "display_data"
    },
    {
     "name": "stdout",
     "output_type": "stream",
     "text": [
      "\n"
     ]
    }
   ],
   "source": [
    "boot_data_cr = []\n",
    "for i in tqdm(range(boot_it)): \n",
    "    samples_grA2 = df_x_checks[df_x_checks.grp == 'A'].rev.sample(boot_len, replace = True).reset_index()\n",
    "    samples_grB2 = df_x_checks[df_x_checks.grp == 'B'].rev.sample(boot_len, replace = True).reset_index()\n",
    "    CR_grA = samples_grA2[samples_grA2.rev > 0].rev.count() / samples_grA2.rev.count() * 100\n",
    "    CR_grB = samples_grB2[samples_grB2.rev > 0].rev.count() / samples_grB2.rev.count() * 100\n",
    "    boot_data_cr.append(CR_grA - CR_grB) \n",
    "pd_boot_data_cr = pd.DataFrame(boot_data_cr)"
   ]
  },
  {
   "cell_type": "code",
   "execution_count": 33,
   "metadata": {},
   "outputs": [
    {
     "data": {
      "image/png": "[encoded data removed]",
      "text/plain": [
       "<Figure size 432x288 with 1 Axes>"
      ]
     },
     "metadata": {},
     "output_type": "display_data"
    }
   ],
   "source": [
    "left_quant = (1 - bootstrap_conf_level)/2\n",
    "right_quant = 1 - (1 - bootstrap_conf_level) / 2\n",
    "quants = pd_boot_data_cr.quantile([left_quant, right_quant])\n",
    "        \n",
    "p_1 = ss.norm.cdf(x = 0, loc = np.mean(boot_data_cr), scale = np.std(boot_data_cr) )\n",
    "p_2 = ss.norm.cdf(x = 0, loc = -np.mean(boot_data_cr), scale = np.std(boot_data_cr))\n",
    "p_value1 = min(p_1, p_2) * 2 \n",
    "        \n",
    "    # Визуализация\n",
    "plt.hist(pd_boot_data_cr[0], bins = 50)\n",
    "plt.style.use('ggplot')\n",
    "plt.vlines(quants,ymin=0,ymax=50,linestyle='--')\n",
    "plt.xlabel('boot_data')\n",
    "plt.ylabel('frequency')\n",
    "plt.title(\"Histogram of boot_data\")\n",
    "plt.show()"
   ]
  },
  {
   "cell_type": "markdown",
   "metadata": {},
   "source": [
    "Обнаружив и исправив свою ошибку в коде, теперь результат эксперимента такой: 0 входит в 95% доверительный интервал разницы конверсий, т.е. можем сделать вывод, что у нас недостаточно оснований отклонить нулевую гипотезу и изменение конверсии не является стат значимым. "
   ]
  },
  {
   "cell_type": "markdown",
   "metadata": {},
   "source": [
    "Ранее мы выяснили, что число повторных покупок = 1. Зная величину среднего чека и CR, также можно построить метрики ARPPU и ARPU, где\n",
    "\n",
    "ARPPU=Число повторных покупок⋅Средний чек => ARPPU = Средний чек\n",
    "\n",
    "ARPU=Конверсия⋅ARPPU = Конверсия*Средний чек"
   ]
  },
  {
   "cell_type": "code",
   "execution_count": 34,
   "metadata": {},
   "outputs": [
    {
     "data": {
      "text/html": [
       "<div>\n",
       "<style scoped>\n",
       "    .dataframe tbody tr th:only-of-type {\n",
       "        vertical-align: middle;\n",
       "    }\n",
       "\n",
       "    .dataframe tbody tr th {\n",
       "        vertical-align: top;\n",
       "    }\n",
       "\n",
       "    .dataframe thead th {\n",
       "        text-align: right;\n",
       "    }\n",
       "</style>\n",
       "<table border=\"1\" class=\"dataframe\">\n",
       "  <thead>\n",
       "    <tr style=\"text-align: right;\">\n",
       "      <th></th>\n",
       "      <th>grp</th>\n",
       "      <th>CR</th>\n",
       "      <th>mean_check</th>\n",
       "      <th>ARPU</th>\n",
       "    </tr>\n",
       "  </thead>\n",
       "  <tbody>\n",
       "    <tr>\n",
       "      <th>0</th>\n",
       "      <td>A</td>\n",
       "      <td>5.081433</td>\n",
       "      <td>47.439739</td>\n",
       "      <td>241.061868</td>\n",
       "    </tr>\n",
       "    <tr>\n",
       "      <th>1</th>\n",
       "      <td>B</td>\n",
       "      <td>4.607684</td>\n",
       "      <td>57.864567</td>\n",
       "      <td>266.621661</td>\n",
       "    </tr>\n",
       "  </tbody>\n",
       "</table>\n",
       "</div>"
      ],
      "text/plain": [
       "  grp        CR  mean_check        ARPU\n",
       "0   A  5.081433   47.439739  241.061868\n",
       "1   B  4.607684   57.864567  266.621661"
      ]
     },
     "execution_count": 34,
     "metadata": {},
     "output_type": "execute_result"
    }
   ],
   "source": [
    "metrics['ARPU'] = metrics.CR * metrics.mean_check \n",
    "metrics"
   ]
  },
  {
   "cell_type": "markdown",
   "metadata": {},
   "source": [
    "ИТОГ: новую механику оплаты на всех пользователей можно запускать, если нашей целью является увеличение среднего чека и ARPU, а незначительное уменьшение конверсии НЕ является критичным для бизнеса. \n",
    "\n",
    "Дополнительно можно провести какую-нибудь кампанию или акцию, чтобы увеличить кол-во активных пользователей на сайт."
   ]
  },
  {
   "cell_type": "markdown",
   "metadata": {},
   "source": [
    "Задача 2.1. Условие:\n",
    "\n",
    "Образовательные курсы состоят из различных уроков, каждый из которых состоит из нескольких маленьких заданий. Каждое такое маленькое задание называется \"горошиной\".\n",
    "\n",
    "Назовём очень усердным учеником того пользователя, который хотя бы раз за текущий месяц правильно решил 20 горошин.\n",
    "\n",
    "Необходимо написать оптимальный запрос, который даст информацию о количестве очень усердных студентов за март 2020 года.\n",
    "\n",
    "NB! Под усердным студентом мы понимаем студента, который правильно решил 20 задач за текущий месяц."
   ]
  },
  {
   "cell_type": "code",
   "execution_count": 35,
   "metadata": {},
   "outputs": [],
   "source": [
    "import pandahouse as ph "
   ]
  },
  {
   "cell_type": "code",
   "execution_count": 36,
   "metadata": {},
   "outputs": [],
   "source": [
    "connection = dict(database='default', \n",
    "                  host='https://clickhouse.lab.karpov.courses', \n",
    "                  user='student', \n",
    "                  password='dpo_python_2020')"
   ]
  },
  {
   "cell_type": "code",
   "execution_count": 37,
   "metadata": {},
   "outputs": [
    {
     "data": {
      "text/html": [
       "<div>\n",
       "<style scoped>\n",
       "    .dataframe tbody tr th:only-of-type {\n",
       "        vertical-align: middle;\n",
       "    }\n",
       "\n",
       "    .dataframe tbody tr th {\n",
       "        vertical-align: top;\n",
       "    }\n",
       "\n",
       "    .dataframe thead th {\n",
       "        text-align: right;\n",
       "    }\n",
       "</style>\n",
       "<table border=\"1\" class=\"dataframe\">\n",
       "  <thead>\n",
       "    <tr style=\"text-align: right;\">\n",
       "      <th></th>\n",
       "      <th>st_id</th>\n",
       "      <th>tasks_cnt</th>\n",
       "    </tr>\n",
       "  </thead>\n",
       "  <tbody>\n",
       "  </tbody>\n",
       "</table>\n",
       "</div>"
      ],
      "text/plain": [
       "Empty DataFrame\n",
       "Columns: [st_id, tasks_cnt]\n",
       "Index: []"
      ]
     },
     "execution_count": 37,
     "metadata": {},
     "output_type": "execute_result"
    }
   ],
   "source": [
    "query = \"\"\"\n",
    "select st_id, count(*) as tasks_cnt\n",
    "from default.peas\n",
    "where correct = 1\n",
    "    and toStartOfMonth(timest)  = toDate('2020-03-01', 'YYYY-MM-DD')\n",
    "group by st_id\n",
    "having tasks_cnt > 20\n",
    "\"\"\"\n",
    "df = ph.read_clickhouse(query, connection = connection)\n",
    "df"
   ]
  },
  {
   "cell_type": "markdown",
   "metadata": {},
   "source": [
    "В таблице default.peas нет корректных данных для данного задания, тк максимальное кол-во выполненных заданий в марте месяце не больше 1. Ниже результат моего запроса без условия на 20 задач."
   ]
  },
  {
   "cell_type": "code",
   "execution_count": 38,
   "metadata": {},
   "outputs": [
    {
     "data": {
      "text/html": [
       "<div>\n",
       "<style scoped>\n",
       "    .dataframe tbody tr th:only-of-type {\n",
       "        vertical-align: middle;\n",
       "    }\n",
       "\n",
       "    .dataframe tbody tr th {\n",
       "        vertical-align: top;\n",
       "    }\n",
       "\n",
       "    .dataframe thead th {\n",
       "        text-align: right;\n",
       "    }\n",
       "</style>\n",
       "<table border=\"1\" class=\"dataframe\">\n",
       "  <thead>\n",
       "    <tr style=\"text-align: right;\">\n",
       "      <th></th>\n",
       "      <th>st_id</th>\n",
       "      <th>tasks_cnt</th>\n",
       "    </tr>\n",
       "  </thead>\n",
       "  <tbody>\n",
       "    <tr>\n",
       "      <th>0</th>\n",
       "      <td>NVGFYG</td>\n",
       "      <td>1</td>\n",
       "    </tr>\n",
       "    <tr>\n",
       "      <th>1</th>\n",
       "      <td>QIP98Q</td>\n",
       "      <td>1</td>\n",
       "    </tr>\n",
       "    <tr>\n",
       "      <th>2</th>\n",
       "      <td>KXWNRE</td>\n",
       "      <td>1</td>\n",
       "    </tr>\n",
       "    <tr>\n",
       "      <th>3</th>\n",
       "      <td>G8F1CB</td>\n",
       "      <td>1</td>\n",
       "    </tr>\n",
       "    <tr>\n",
       "      <th>4</th>\n",
       "      <td>87AU5B</td>\n",
       "      <td>1</td>\n",
       "    </tr>\n",
       "    <tr>\n",
       "      <th>5</th>\n",
       "      <td>MECOSF</td>\n",
       "      <td>1</td>\n",
       "    </tr>\n",
       "    <tr>\n",
       "      <th>6</th>\n",
       "      <td>1ZXOI6</td>\n",
       "      <td>1</td>\n",
       "    </tr>\n",
       "  </tbody>\n",
       "</table>\n",
       "</div>"
      ],
      "text/plain": [
       "    st_id  tasks_cnt\n",
       "0  NVGFYG          1\n",
       "1  QIP98Q          1\n",
       "2  KXWNRE          1\n",
       "3  G8F1CB          1\n",
       "4  87AU5B          1\n",
       "5  MECOSF          1\n",
       "6  1ZXOI6          1"
      ]
     },
     "execution_count": 38,
     "metadata": {},
     "output_type": "execute_result"
    }
   ],
   "source": [
    "query = \"\"\"\n",
    "select st_id, count(*) as tasks_cnt\n",
    "from default.peas\n",
    "where correct = 1\n",
    "    and toStartOfMonth(timest)  = toDate('2020-03-01', 'YYYY-MM-DD')\n",
    "group by st_id\n",
    "\"\"\"\n",
    "df = ph.read_clickhouse(query, connection = connection)\n",
    "df"
   ]
  },
  {
   "cell_type": "markdown",
   "metadata": {},
   "source": [
    "Задача 2.2. Условие:\n",
    "\n",
    "Образовательная платформа предлагает пройти студентам курсы по модели trial: студент может решить бесплатно лишь 30 горошин в день. Для неограниченного количества заданий в определенной дисциплине студенту необходимо приобрести полный доступ. Команда провела эксперимент, где был протестирован новый экран оплаты.\n",
    "\n",
    "Необходимо в одном запросе выгрузить следующую информацию о группах пользователей:\n",
    "\n",
    "ARPU \n",
    "ARPAU \n",
    "CR в покупку \n",
    "СR активного пользователя в покупку \n",
    "CR пользователя из активности по математике (subject = ’math’) в покупку курса по математике"
   ]
  },
  {
   "cell_type": "code",
   "execution_count": 39,
   "metadata": {},
   "outputs": [
    {
     "data": {
      "text/html": [
       "<div>\n",
       "<style scoped>\n",
       "    .dataframe tbody tr th:only-of-type {\n",
       "        vertical-align: middle;\n",
       "    }\n",
       "\n",
       "    .dataframe tbody tr th {\n",
       "        vertical-align: top;\n",
       "    }\n",
       "\n",
       "    .dataframe thead th {\n",
       "        text-align: right;\n",
       "    }\n",
       "</style>\n",
       "<table border=\"1\" class=\"dataframe\">\n",
       "  <thead>\n",
       "    <tr style=\"text-align: right;\">\n",
       "      <th></th>\n",
       "      <th>test_grp</th>\n",
       "      <th>ARPU</th>\n",
       "      <th>ARPAU</th>\n",
       "      <th>CR</th>\n",
       "      <th>CR_act</th>\n",
       "      <th>CR_math</th>\n",
       "    </tr>\n",
       "  </thead>\n",
       "  <tbody>\n",
       "    <tr>\n",
       "      <th>0</th>\n",
       "      <td>new</td>\n",
       "      <td>92241.37931</td>\n",
       "      <td>178333.333333</td>\n",
       "      <td>0.965517</td>\n",
       "      <td>0.866667</td>\n",
       "      <td>0.75</td>\n",
       "    </tr>\n",
       "    <tr>\n",
       "      <th>1</th>\n",
       "      <td>old</td>\n",
       "      <td>92241.37931</td>\n",
       "      <td>178333.333333</td>\n",
       "      <td>0.965517</td>\n",
       "      <td>0.866667</td>\n",
       "      <td>0.75</td>\n",
       "    </tr>\n",
       "  </tbody>\n",
       "</table>\n",
       "</div>"
      ],
      "text/plain": [
       "  test_grp         ARPU          ARPAU        CR    CR_act  CR_math\n",
       "0      new  92241.37931  178333.333333  0.965517  0.866667     0.75\n",
       "1      old  92241.37931  178333.333333  0.965517  0.866667     0.75"
      ]
     },
     "execution_count": 39,
     "metadata": {},
     "output_type": "execute_result"
    }
   ],
   "source": [
    "query = \"\"\"\n",
    "with groups as (\n",
    "  select st_id,     \n",
    "         test_grp\n",
    "    from default.studs \n",
    "group by st_id, test_grp\n",
    ")\n",
    ", activity as (\n",
    "--считаю активность студентов\n",
    "  select st_id,  \n",
    "         subject,\n",
    "         sum(correct)                   as success_eff, --кол-во решенных задач\n",
    "         count(1)                       as effort_cnt  --кол-во всего попыток\n",
    "    from default.peas\n",
    "group by st_id, subject\n",
    ")\n",
    ", checks as (\n",
    "--считаю кол-во оплат по предметам у каждого студента\n",
    "  select st_id, \n",
    "         subject, \n",
    "         money, \n",
    "         count(1)                       as purch_cnt\n",
    "    from default.final_project_check ch \n",
    "group by st_id, subject, money\n",
    ")\n",
    ", fin_tab as (\n",
    "  select g.st_id                        as st_id, \n",
    "         g.test_grp                     as test_grp, \n",
    "         act.subject                    as subject, \n",
    "         act.success_eff                as success_eff, \n",
    "         act.effort_cnt                 as effort_cnt, \n",
    "         case when act.success_eff >1 \n",
    "         then 1 else 0 end              act_flg, \n",
    "         ch.money                       as money, \n",
    "         ch.purch_cnt                   as purch_cnt\n",
    "    from groups g\n",
    "    left \n",
    "    join activity act\n",
    "      on g.st_id = act.st_id\n",
    "    left \n",
    "    join checks ch\n",
    "      on g.st_id = ch.st_id\n",
    "     and act.subject = ch.subject\n",
    ")\n",
    "  select test_grp, \n",
    "         sum(money*purch_cnt) / count(distinct st_id) AS ARPU, \n",
    "         sum(money*purch_cnt) / countIf(distinct st_id, act_flg = 1) AS ARPAU, \n",
    "         countIf(distinct st_id, purch_cnt>0) / count(distinct st_id) as CR, \n",
    "         countIf(distinct st_id, purch_cnt>0 and act_flg = 1) / countIf(distinct st_id, act_flg = 1) as CR_act, \n",
    "         countIf(distinct st_id, purch_cnt>0 and subject = 'Math') / countif(distinct st_id, subject = 'Math') as CR_math\n",
    "    from fin_tab \n",
    "group by test_grp \n",
    "\"\"\"\n",
    "df = ph.read_clickhouse(query, connection = connection)\n",
    "df\n"
   ]
  },
  {
   "cell_type": "markdown",
   "metadata": {},
   "source": [
    "В данной задаче аналогичная ситуация с данными в таблице: разница в группах только в двух пользователях ('X272HP', '1EYY37'), которые не сделали покупку и не являются активными (см. данные ниже), поэтому различий в значениях метрик нет."
   ]
  },
  {
   "cell_type": "code",
   "execution_count": 40,
   "metadata": {},
   "outputs": [
    {
     "data": {
      "text/html": [
       "<div>\n",
       "<style scoped>\n",
       "    .dataframe tbody tr th:only-of-type {\n",
       "        vertical-align: middle;\n",
       "    }\n",
       "\n",
       "    .dataframe tbody tr th {\n",
       "        vertical-align: top;\n",
       "    }\n",
       "\n",
       "    .dataframe thead th {\n",
       "        text-align: right;\n",
       "    }\n",
       "</style>\n",
       "<table border=\"1\" class=\"dataframe\">\n",
       "  <thead>\n",
       "    <tr style=\"text-align: right;\">\n",
       "      <th></th>\n",
       "      <th>st_id</th>\n",
       "      <th>test_grp</th>\n",
       "      <th>subject</th>\n",
       "      <th>success_eff</th>\n",
       "      <th>effort_cnt</th>\n",
       "      <th>act_flg</th>\n",
       "      <th>money</th>\n",
       "      <th>purch_cnt</th>\n",
       "    </tr>\n",
       "  </thead>\n",
       "  <tbody>\n",
       "    <tr>\n",
       "      <th>0</th>\n",
       "      <td>1EYY37</td>\n",
       "      <td>old</td>\n",
       "      <td>Math</td>\n",
       "      <td>0</td>\n",
       "      <td>1</td>\n",
       "      <td>0</td>\n",
       "      <td>0</td>\n",
       "      <td>0</td>\n",
       "    </tr>\n",
       "    <tr>\n",
       "      <th>1</th>\n",
       "      <td>X272HP</td>\n",
       "      <td>new</td>\n",
       "      <td>Statistics</td>\n",
       "      <td>0</td>\n",
       "      <td>2</td>\n",
       "      <td>0</td>\n",
       "      <td>0</td>\n",
       "      <td>0</td>\n",
       "    </tr>\n",
       "    <tr>\n",
       "      <th>2</th>\n",
       "      <td>X272HP</td>\n",
       "      <td>new</td>\n",
       "      <td>Math</td>\n",
       "      <td>0</td>\n",
       "      <td>1</td>\n",
       "      <td>0</td>\n",
       "      <td>0</td>\n",
       "      <td>0</td>\n",
       "    </tr>\n",
       "  </tbody>\n",
       "</table>\n",
       "</div>"
      ],
      "text/plain": [
       "    st_id test_grp     subject  success_eff  effort_cnt  act_flg  money  \\\n",
       "0  1EYY37      old        Math            0           1        0      0   \n",
       "1  X272HP      new  Statistics            0           2        0      0   \n",
       "2  X272HP      new        Math            0           1        0      0   \n",
       "\n",
       "   purch_cnt  \n",
       "0          0  \n",
       "1          0  \n",
       "2          0  "
      ]
     },
     "execution_count": 40,
     "metadata": {},
     "output_type": "execute_result"
    }
   ],
   "source": [
    "query = \"\"\"\n",
    "with groups as (\n",
    "  select st_id,     \n",
    "         test_grp\n",
    "    from default.studs \n",
    "group by st_id, test_grp\n",
    ")\n",
    ", activity as (\n",
    "--считаю активность студентов\n",
    "  select st_id,  \n",
    "         subject,\n",
    "         sum(correct)                   as success_eff, --кол-во решенных задач\n",
    "         count(1)                       as effort_cnt  --кол-во всего попыток\n",
    "    from default.peas\n",
    "group by st_id, subject\n",
    ")\n",
    ", checks as (\n",
    "--считаю кол-во оплат по предметам у каждого студента\n",
    "  select st_id, \n",
    "         subject, \n",
    "         money, \n",
    "         count(1)                       as purch_cnt\n",
    "    from default.final_project_check ch \n",
    "group by st_id, subject, money\n",
    ")\n",
    ", fin_tab as (\n",
    "  select g.st_id                        as st_id, \n",
    "         g.test_grp                     as test_grp, \n",
    "         act.subject                    as subject, \n",
    "         act.success_eff                as success_eff, \n",
    "         act.effort_cnt                 as effort_cnt, \n",
    "         case when act.success_eff >1 \n",
    "         then 1 else 0 end              act_flg, \n",
    "         ch.money                       as money, \n",
    "         ch.purch_cnt                   as purch_cnt\n",
    "    from groups g\n",
    "    left \n",
    "    join activity act\n",
    "      on g.st_id = act.st_id\n",
    "    left \n",
    "    join checks ch\n",
    "      on g.st_id = ch.st_id\n",
    "     and act.subject = ch.subject\n",
    ")\n",
    "select *\n",
    "from fin_tab \n",
    "where st_id in ('X272HP', '1EYY37')\n",
    "\"\"\"\n",
    "df = ph.read_clickhouse(query, connection = connection)\n",
    "df"
   ]
  },
  {
   "cell_type": "markdown",
   "metadata": {},
   "source": [
    "3.1 Задача\n",
    "\n",
    "1. Реализуйте функцию, которая будет автоматически подгружать информацию из дополнительного файла groups_add.csv (заголовки могут отличаться) и на основании дополнительных параметров пересчитывать метрики.\n",
    "2. Реализуйте функцию, которая будет строить графики по получаемым метрикам."
   ]
  },
  {
   "cell_type": "code",
   "execution_count": 41,
   "metadata": {},
   "outputs": [],
   "source": [
    "def group_add_file(file_path, groups, active_studs, checks):\n",
    "    groups_add = pd.read_csv(file_path, sep = ',')\n",
    "    groups = pd.concat([groups, groups_add])  \n",
    "    df = active_studs.merge(groups, how = 'outer', on = 'id')\n",
    "    df['is_active'] = df.is_active.fillna(0)\n",
    "    df['grp'] = df.grp.fillna('0')\n",
    "    df_x_checks = df.merge(checks, how = 'left', on = 'id')\n",
    "    df_x_checks['has_check'] = df_x_checks.has_check.fillna(0)\n",
    "    df_x_checks['rev'] = df_x_checks.rev.fillna(0)\n",
    "    metrics =  df_x_checks.groupby(['grp'], as_index = False)\\\n",
    "        .agg({'has_check':'mean', 'rev':'mean'}) \\\n",
    "        .rename(columns = {'rev':'mean_check', 'has_check':'CR'})\n",
    "    metrics['CR'] = metrics['CR']*100\n",
    "    metrics['ARPU'] = metrics.CR * metrics.mean_check \n",
    "    metrics\n",
    "    return metrics"
   ]
  },
  {
   "cell_type": "code",
   "execution_count": 42,
   "metadata": {},
   "outputs": [
    {
     "data": {
      "text/html": [
       "<div>\n",
       "<style scoped>\n",
       "    .dataframe tbody tr th:only-of-type {\n",
       "        vertical-align: middle;\n",
       "    }\n",
       "\n",
       "    .dataframe tbody tr th {\n",
       "        vertical-align: top;\n",
       "    }\n",
       "\n",
       "    .dataframe thead th {\n",
       "        text-align: right;\n",
       "    }\n",
       "</style>\n",
       "<table border=\"1\" class=\"dataframe\">\n",
       "  <thead>\n",
       "    <tr style=\"text-align: right;\">\n",
       "      <th></th>\n",
       "      <th>grp</th>\n",
       "      <th>CR</th>\n",
       "      <th>mean_check</th>\n",
       "      <th>ARPU</th>\n",
       "      <th>type</th>\n",
       "    </tr>\n",
       "  </thead>\n",
       "  <tbody>\n",
       "    <tr>\n",
       "      <th>0</th>\n",
       "      <td>A</td>\n",
       "      <td>0.728238</td>\n",
       "      <td>6.268019</td>\n",
       "      <td>4.564609</td>\n",
       "      <td>new</td>\n",
       "    </tr>\n",
       "    <tr>\n",
       "      <th>1</th>\n",
       "      <td>B</td>\n",
       "      <td>0.724747</td>\n",
       "      <td>8.036171</td>\n",
       "      <td>5.824187</td>\n",
       "      <td>new</td>\n",
       "    </tr>\n",
       "  </tbody>\n",
       "</table>\n",
       "</div>"
      ],
      "text/plain": [
       "  grp        CR  mean_check      ARPU type\n",
       "0   A  0.728238    6.268019  4.564609  new\n",
       "1   B  0.724747    8.036171  5.824187  new"
      ]
     },
     "execution_count": 42,
     "metadata": {},
     "output_type": "execute_result"
    }
   ],
   "source": [
    "new_df_metrics = group_add_file('Проект_2_group_add.csv', groups, active_studs, checks)\n",
    "new_df_metrics['type'] = 'new'\n",
    "new_df_metrics"
   ]
  },
  {
   "cell_type": "code",
   "execution_count": 43,
   "metadata": {},
   "outputs": [
    {
     "data": {
      "text/html": [
       "<div>\n",
       "<style scoped>\n",
       "    .dataframe tbody tr th:only-of-type {\n",
       "        vertical-align: middle;\n",
       "    }\n",
       "\n",
       "    .dataframe tbody tr th {\n",
       "        vertical-align: top;\n",
       "    }\n",
       "\n",
       "    .dataframe thead th {\n",
       "        text-align: right;\n",
       "    }\n",
       "</style>\n",
       "<table border=\"1\" class=\"dataframe\">\n",
       "  <thead>\n",
       "    <tr style=\"text-align: right;\">\n",
       "      <th></th>\n",
       "      <th>grp</th>\n",
       "      <th>CR</th>\n",
       "      <th>mean_check</th>\n",
       "      <th>ARPU</th>\n",
       "    </tr>\n",
       "  </thead>\n",
       "  <tbody>\n",
       "    <tr>\n",
       "      <th>0</th>\n",
       "      <td>A</td>\n",
       "      <td>5.081433</td>\n",
       "      <td>47.439739</td>\n",
       "      <td>241.061868</td>\n",
       "    </tr>\n",
       "    <tr>\n",
       "      <th>1</th>\n",
       "      <td>B</td>\n",
       "      <td>4.607684</td>\n",
       "      <td>57.864567</td>\n",
       "      <td>266.621661</td>\n",
       "    </tr>\n",
       "  </tbody>\n",
       "</table>\n",
       "</div>"
      ],
      "text/plain": [
       "  grp        CR  mean_check        ARPU\n",
       "0   A  5.081433   47.439739  241.061868\n",
       "1   B  4.607684   57.864567  266.621661"
      ]
     },
     "execution_count": 43,
     "metadata": {},
     "output_type": "execute_result"
    }
   ],
   "source": [
    "metrics"
   ]
  },
  {
   "cell_type": "code",
   "execution_count": 44,
   "metadata": {},
   "outputs": [],
   "source": [
    "def calc_metrics():\n",
    "    metrics['type'] = 'old'\n",
    "    metrics_union = pd.concat([metrics, new_df_metrics])\n",
    "    plt.figure(figsize=(15, 7))\n",
    "    plt.subplot(1, 3, 1)\n",
    "    sns.pointplot(x=\"type\", y=\"mean_check\", hue = 'grp',  data=metrics_union, capsize=0.8)\n",
    "    plt.subplot(1, 3, 2)\n",
    "    sns.pointplot(x=\"type\", y=\"CR\", hue = 'grp',  data=metrics_union, capsize=0.8)\n",
    "    plt.subplot(1, 3, 3)\n",
    "    sns.pointplot(x=\"type\", y=\"ARPU\", hue = 'grp',  data=metrics_union, capsize=0.8)"
   ]
  },
  {
   "cell_type": "code",
   "execution_count": 45,
   "metadata": {},
   "outputs": [
    {
     "data": {
      "image/png": "[encoded data removed]",
      "text/plain": [
       "<Figure size 1080x504 with 3 Axes>"
      ]
     },
     "metadata": {},
     "output_type": "display_data"
    }
   ],
   "source": [
    "calc_metrics()"
   ]
  }
 ],
 "metadata": {
  "kernelspec": {
   "display_name": "Python 3",
   "language": "python",
   "name": "python3"
  },
  "language_info": {
   "codemirror_mode": {
    "name": "ipython",
    "version": 3
   },
   "file_extension": ".py",
   "mimetype": "text/x-python",
   "name": "python",
   "nbconvert_exporter": "python",
   "pygments_lexer": "ipython3",
   "version": "3.7.1"
  }
 },
 "nbformat": 4,
 "nbformat_minor": 2
}
